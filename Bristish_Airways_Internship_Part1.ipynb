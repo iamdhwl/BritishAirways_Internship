{
  "nbformat": 4,
  "nbformat_minor": 0,
  "metadata": {
    "colab": {
      "provenance": []
    },
    "kernelspec": {
      "name": "python3",
      "display_name": "Python 3"
    },
    "language_info": {
      "name": "python"
    }
  },
  "cells": [
    {
      "cell_type": "markdown",
      "source": [
        "#Web Scraping / Data Collection"
      ],
      "metadata": {
        "id": "VOm-T_74NGw2"
      }
    },
    {
      "cell_type": "markdown",
      "source": [
        "##Importing necessary libraries"
      ],
      "metadata": {
        "id": "T8s06rC0NJVk"
      }
    },
    {
      "cell_type": "code",
      "execution_count": null,
      "metadata": {
        "id": "K-tcoMr6-N-D"
      },
      "outputs": [],
      "source": [
        "import pandas as pd\n",
        "import numpy as np\n",
        "from bs4 import BeautifulSoup\n",
        "import requests"
      ]
    },
    {
      "cell_type": "code",
      "source": [
        "reviews  = []\n",
        "\n",
        "stars = []\n",
        "\n",
        "date = []\n",
        "\n",
        "country = []"
      ],
      "metadata": {
        "id": "E-ep5oWlEyDt"
      },
      "execution_count": null,
      "outputs": []
    },
    {
      "cell_type": "code",
      "source": [
        "pages = 10\n",
        "page_size = 100\n",
        "\n",
        "for i in range(1, pages+1):\n",
        "    page = requests.get(f\"https://www.airlinequality.com/airline-reviews/british-airways\")\n",
        "\n",
        "    soup = BeautifulSoup(page.content, \"html5\")\n",
        "\n",
        "    for item in soup.find_all(\"div\", class_=\"text_content\"):\n",
        "        reviews.append(item.text)\n",
        "\n",
        "    for item in soup.find_all(\"div\", class_ = \"rating-10\"):\n",
        "        try:\n",
        "            stars.append(item.span.text)\n",
        "        except:\n",
        "            print(f\"Error on page {i}\")\n",
        "            stars.append(\"None\")\n",
        "\n",
        "    #date\n",
        "    for item in soup.find_all(\"time\"):\n",
        "        date.append(item.text)\n",
        "\n",
        "    #country\n",
        "    for item in soup.find_all(\"h3\"):\n",
        "        country.append(item.span.next_sibling.text.strip(\" ()\"))"
      ],
      "metadata": {
        "id": "9RXqFR4CE1iN"
      },
      "execution_count": null,
      "outputs": []
    },
    {
      "cell_type": "code",
      "source": [
        "len(stars)"
      ],
      "metadata": {
        "colab": {
          "base_uri": "https://localhost:8080/"
        },
        "id": "ro88QTcvFs0B",
        "outputId": "bba28fe4-ada4-4a49-8225-7581740cb547"
      },
      "execution_count": null,
      "outputs": [
        {
          "output_type": "execute_result",
          "data": {
            "text/plain": [
              "110"
            ]
          },
          "metadata": {},
          "execution_count": 16
        }
      ]
    },
    {
      "cell_type": "code",
      "source": [
        "len(reviews)"
      ],
      "metadata": {
        "colab": {
          "base_uri": "https://localhost:8080/"
        },
        "id": "myTDo5jyFnAO",
        "outputId": "74eb9190-9393-47f7-8349-20c17a60cea4"
      },
      "execution_count": null,
      "outputs": [
        {
          "output_type": "execute_result",
          "data": {
            "text/plain": [
              "100"
            ]
          },
          "metadata": {},
          "execution_count": 17
        }
      ]
    },
    {
      "cell_type": "code",
      "source": [
        "len(country)"
      ],
      "metadata": {
        "colab": {
          "base_uri": "https://localhost:8080/"
        },
        "id": "0QMn4FchForL",
        "outputId": "b035a6c9-7f6d-47de-b173-0688ec6b7ec7"
      },
      "execution_count": null,
      "outputs": [
        {
          "output_type": "execute_result",
          "data": {
            "text/plain": [
              "100"
            ]
          },
          "metadata": {},
          "execution_count": 18
        }
      ]
    },
    {
      "cell_type": "code",
      "source": [
        "len(country)"
      ],
      "metadata": {
        "colab": {
          "base_uri": "https://localhost:8080/"
        },
        "id": "Aj0L_RmTRoyw",
        "outputId": "bcc2c8f0-ab7d-4c11-9b3e-3c95bac76aca"
      },
      "execution_count": null,
      "outputs": [
        {
          "output_type": "execute_result",
          "data": {
            "text/plain": [
              "100"
            ]
          },
          "metadata": {},
          "execution_count": 20
        }
      ]
    },
    {
      "cell_type": "code",
      "source": [
        "len(stars)"
      ],
      "metadata": {
        "colab": {
          "base_uri": "https://localhost:8080/"
        },
        "id": "WP021ECXRrVr",
        "outputId": "2182397d-b888-4b56-e56f-77c2290d49c4"
      },
      "execution_count": null,
      "outputs": [
        {
          "output_type": "execute_result",
          "data": {
            "text/plain": [
              "110"
            ]
          },
          "metadata": {},
          "execution_count": 21
        }
      ]
    },
    {
      "cell_type": "code",
      "source": [
        "len(date)"
      ],
      "metadata": {
        "colab": {
          "base_uri": "https://localhost:8080/"
        },
        "id": "4DlVbEblR0qN",
        "outputId": "4578d9ed-33e6-44e8-8fa7-1ac5119a3cb6"
      },
      "execution_count": null,
      "outputs": [
        {
          "output_type": "execute_result",
          "data": {
            "text/plain": [
              "100"
            ]
          },
          "metadata": {},
          "execution_count": 22
        }
      ]
    },
    {
      "cell_type": "code",
      "source": [
        "stars = stars[:100]"
      ],
      "metadata": {
        "id": "nbZ7GhW_R2AG"
      },
      "execution_count": null,
      "outputs": []
    },
    {
      "cell_type": "code",
      "source": [
        "df = pd.DataFrame({\"reviews\": reviews, \"stars\": stars, \"date\": date, \"country\": country})"
      ],
      "metadata": {
        "id": "wEVXuYjqE4OK"
      },
      "execution_count": null,
      "outputs": []
    },
    {
      "cell_type": "code",
      "source": [
        "df"
      ],
      "metadata": {
        "colab": {
          "base_uri": "https://localhost:8080/",
          "height": 423
        },
        "id": "jF2zTN8VH2vF",
        "outputId": "46b31b04-aab1-40d9-c18c-af284e8931ab"
      },
      "execution_count": null,
      "outputs": [
        {
          "output_type": "execute_result",
          "data": {
            "text/plain": [
              "                                              reviews  \\\n",
              "0   Not Verified |  British Airways has confirmed ...   \n",
              "1   ✅ Trip Verified | Worst BA experience. I was s...   \n",
              "2   ✅ Trip Verified |  My daughter and I were deni...   \n",
              "3   ✅ Trip Verified | Despite boarding being the u...   \n",
              "4   Not Verified |  Flight cancelled, no crew! 9th...   \n",
              "..                                                ...   \n",
              "95  Not Verified |  The worst service ever, my bag...   \n",
              "96  ✅ Trip Verified |  4/4 flights we booked this ...   \n",
              "97  ✅ Trip Verified |  British Airways has a total...   \n",
              "98  ✅ Trip Verified | London Heathrow to Keflavik,...   \n",
              "99  ✅ Trip Verified | Mumbai to London Heathrow in...   \n",
              "\n",
              "                            stars                 date         country  \n",
              "0   \\n\\t\\t\\t\\t\\t\\t\\t\\t\\t\\t\\t\\t\\t5  16th September 2023  United Kingdom  \n",
              "1                               1  15th September 2023    South Africa  \n",
              "2                               2  13th September 2023          Canada  \n",
              "3                               1  11th September 2023  United Kingdom  \n",
              "4                               8  10th September 2023  United Kingdom  \n",
              "..                            ...                  ...             ...  \n",
              "95                              1   9th September 2023          Kuwait  \n",
              "96                              1   6th September 2023         Germany  \n",
              "97                              8   4th September 2023  United Kingdom  \n",
              "98                              8   4th September 2023         Iceland  \n",
              "99  \\n\\t\\t\\t\\t\\t\\t\\t\\t\\t\\t\\t\\t\\t5   4th September 2023         Iceland  \n",
              "\n",
              "[100 rows x 4 columns]"
            ],
            "text/html": [
              "\n",
              "  <div id=\"df-da496d28-bcf4-49a2-be09-f632a7d44971\" class=\"colab-df-container\">\n",
              "    <div>\n",
              "<style scoped>\n",
              "    .dataframe tbody tr th:only-of-type {\n",
              "        vertical-align: middle;\n",
              "    }\n",
              "\n",
              "    .dataframe tbody tr th {\n",
              "        vertical-align: top;\n",
              "    }\n",
              "\n",
              "    .dataframe thead th {\n",
              "        text-align: right;\n",
              "    }\n",
              "</style>\n",
              "<table border=\"1\" class=\"dataframe\">\n",
              "  <thead>\n",
              "    <tr style=\"text-align: right;\">\n",
              "      <th></th>\n",
              "      <th>reviews</th>\n",
              "      <th>stars</th>\n",
              "      <th>date</th>\n",
              "      <th>country</th>\n",
              "    </tr>\n",
              "  </thead>\n",
              "  <tbody>\n",
              "    <tr>\n",
              "      <th>0</th>\n",
              "      <td>Not Verified |  British Airways has confirmed ...</td>\n",
              "      <td>\\n\\t\\t\\t\\t\\t\\t\\t\\t\\t\\t\\t\\t\\t5</td>\n",
              "      <td>16th September 2023</td>\n",
              "      <td>United Kingdom</td>\n",
              "    </tr>\n",
              "    <tr>\n",
              "      <th>1</th>\n",
              "      <td>✅ Trip Verified | Worst BA experience. I was s...</td>\n",
              "      <td>1</td>\n",
              "      <td>15th September 2023</td>\n",
              "      <td>South Africa</td>\n",
              "    </tr>\n",
              "    <tr>\n",
              "      <th>2</th>\n",
              "      <td>✅ Trip Verified |  My daughter and I were deni...</td>\n",
              "      <td>2</td>\n",
              "      <td>13th September 2023</td>\n",
              "      <td>Canada</td>\n",
              "    </tr>\n",
              "    <tr>\n",
              "      <th>3</th>\n",
              "      <td>✅ Trip Verified | Despite boarding being the u...</td>\n",
              "      <td>1</td>\n",
              "      <td>11th September 2023</td>\n",
              "      <td>United Kingdom</td>\n",
              "    </tr>\n",
              "    <tr>\n",
              "      <th>4</th>\n",
              "      <td>Not Verified |  Flight cancelled, no crew! 9th...</td>\n",
              "      <td>8</td>\n",
              "      <td>10th September 2023</td>\n",
              "      <td>United Kingdom</td>\n",
              "    </tr>\n",
              "    <tr>\n",
              "      <th>...</th>\n",
              "      <td>...</td>\n",
              "      <td>...</td>\n",
              "      <td>...</td>\n",
              "      <td>...</td>\n",
              "    </tr>\n",
              "    <tr>\n",
              "      <th>95</th>\n",
              "      <td>Not Verified |  The worst service ever, my bag...</td>\n",
              "      <td>1</td>\n",
              "      <td>9th September 2023</td>\n",
              "      <td>Kuwait</td>\n",
              "    </tr>\n",
              "    <tr>\n",
              "      <th>96</th>\n",
              "      <td>✅ Trip Verified |  4/4 flights we booked this ...</td>\n",
              "      <td>1</td>\n",
              "      <td>6th September 2023</td>\n",
              "      <td>Germany</td>\n",
              "    </tr>\n",
              "    <tr>\n",
              "      <th>97</th>\n",
              "      <td>✅ Trip Verified |  British Airways has a total...</td>\n",
              "      <td>8</td>\n",
              "      <td>4th September 2023</td>\n",
              "      <td>United Kingdom</td>\n",
              "    </tr>\n",
              "    <tr>\n",
              "      <th>98</th>\n",
              "      <td>✅ Trip Verified | London Heathrow to Keflavik,...</td>\n",
              "      <td>8</td>\n",
              "      <td>4th September 2023</td>\n",
              "      <td>Iceland</td>\n",
              "    </tr>\n",
              "    <tr>\n",
              "      <th>99</th>\n",
              "      <td>✅ Trip Verified | Mumbai to London Heathrow in...</td>\n",
              "      <td>\\n\\t\\t\\t\\t\\t\\t\\t\\t\\t\\t\\t\\t\\t5</td>\n",
              "      <td>4th September 2023</td>\n",
              "      <td>Iceland</td>\n",
              "    </tr>\n",
              "  </tbody>\n",
              "</table>\n",
              "<p>100 rows × 4 columns</p>\n",
              "</div>\n",
              "    <div class=\"colab-df-buttons\">\n",
              "\n",
              "  <div class=\"colab-df-container\">\n",
              "    <button class=\"colab-df-convert\" onclick=\"convertToInteractive('df-da496d28-bcf4-49a2-be09-f632a7d44971')\"\n",
              "            title=\"Convert this dataframe to an interactive table.\"\n",
              "            style=\"display:none;\">\n",
              "\n",
              "  <svg xmlns=\"http://www.w3.org/2000/svg\" height=\"24px\" viewBox=\"0 -960 960 960\">\n",
              "    <path d=\"M120-120v-720h720v720H120Zm60-500h600v-160H180v160Zm220 220h160v-160H400v160Zm0 220h160v-160H400v160ZM180-400h160v-160H180v160Zm440 0h160v-160H620v160ZM180-180h160v-160H180v160Zm440 0h160v-160H620v160Z\"/>\n",
              "  </svg>\n",
              "    </button>\n",
              "\n",
              "  <style>\n",
              "    .colab-df-container {\n",
              "      display:flex;\n",
              "      gap: 12px;\n",
              "    }\n",
              "\n",
              "    .colab-df-convert {\n",
              "      background-color: #E8F0FE;\n",
              "      border: none;\n",
              "      border-radius: 50%;\n",
              "      cursor: pointer;\n",
              "      display: none;\n",
              "      fill: #1967D2;\n",
              "      height: 32px;\n",
              "      padding: 0 0 0 0;\n",
              "      width: 32px;\n",
              "    }\n",
              "\n",
              "    .colab-df-convert:hover {\n",
              "      background-color: #E2EBFA;\n",
              "      box-shadow: 0px 1px 2px rgba(60, 64, 67, 0.3), 0px 1px 3px 1px rgba(60, 64, 67, 0.15);\n",
              "      fill: #174EA6;\n",
              "    }\n",
              "\n",
              "    .colab-df-buttons div {\n",
              "      margin-bottom: 4px;\n",
              "    }\n",
              "\n",
              "    [theme=dark] .colab-df-convert {\n",
              "      background-color: #3B4455;\n",
              "      fill: #D2E3FC;\n",
              "    }\n",
              "\n",
              "    [theme=dark] .colab-df-convert:hover {\n",
              "      background-color: #434B5C;\n",
              "      box-shadow: 0px 1px 3px 1px rgba(0, 0, 0, 0.15);\n",
              "      filter: drop-shadow(0px 1px 2px rgba(0, 0, 0, 0.3));\n",
              "      fill: #FFFFFF;\n",
              "    }\n",
              "  </style>\n",
              "\n",
              "    <script>\n",
              "      const buttonEl =\n",
              "        document.querySelector('#df-da496d28-bcf4-49a2-be09-f632a7d44971 button.colab-df-convert');\n",
              "      buttonEl.style.display =\n",
              "        google.colab.kernel.accessAllowed ? 'block' : 'none';\n",
              "\n",
              "      async function convertToInteractive(key) {\n",
              "        const element = document.querySelector('#df-da496d28-bcf4-49a2-be09-f632a7d44971');\n",
              "        const dataTable =\n",
              "          await google.colab.kernel.invokeFunction('convertToInteractive',\n",
              "                                                    [key], {});\n",
              "        if (!dataTable) return;\n",
              "\n",
              "        const docLinkHtml = 'Like what you see? Visit the ' +\n",
              "          '<a target=\"_blank\" href=https://colab.research.google.com/notebooks/data_table.ipynb>data table notebook</a>'\n",
              "          + ' to learn more about interactive tables.';\n",
              "        element.innerHTML = '';\n",
              "        dataTable['output_type'] = 'display_data';\n",
              "        await google.colab.output.renderOutput(dataTable, element);\n",
              "        const docLink = document.createElement('div');\n",
              "        docLink.innerHTML = docLinkHtml;\n",
              "        element.appendChild(docLink);\n",
              "      }\n",
              "    </script>\n",
              "  </div>\n",
              "\n",
              "\n",
              "<div id=\"df-34f49cd7-ce3b-4e7a-9cb6-9c75491730e0\">\n",
              "  <button class=\"colab-df-quickchart\" onclick=\"quickchart('df-34f49cd7-ce3b-4e7a-9cb6-9c75491730e0')\"\n",
              "            title=\"Suggest charts.\"\n",
              "            style=\"display:none;\">\n",
              "\n",
              "<svg xmlns=\"http://www.w3.org/2000/svg\" height=\"24px\"viewBox=\"0 0 24 24\"\n",
              "     width=\"24px\">\n",
              "    <g>\n",
              "        <path d=\"M19 3H5c-1.1 0-2 .9-2 2v14c0 1.1.9 2 2 2h14c1.1 0 2-.9 2-2V5c0-1.1-.9-2-2-2zM9 17H7v-7h2v7zm4 0h-2V7h2v10zm4 0h-2v-4h2v4z\"/>\n",
              "    </g>\n",
              "</svg>\n",
              "  </button>\n",
              "\n",
              "<style>\n",
              "  .colab-df-quickchart {\n",
              "      --bg-color: #E8F0FE;\n",
              "      --fill-color: #1967D2;\n",
              "      --hover-bg-color: #E2EBFA;\n",
              "      --hover-fill-color: #174EA6;\n",
              "      --disabled-fill-color: #AAA;\n",
              "      --disabled-bg-color: #DDD;\n",
              "  }\n",
              "\n",
              "  [theme=dark] .colab-df-quickchart {\n",
              "      --bg-color: #3B4455;\n",
              "      --fill-color: #D2E3FC;\n",
              "      --hover-bg-color: #434B5C;\n",
              "      --hover-fill-color: #FFFFFF;\n",
              "      --disabled-bg-color: #3B4455;\n",
              "      --disabled-fill-color: #666;\n",
              "  }\n",
              "\n",
              "  .colab-df-quickchart {\n",
              "    background-color: var(--bg-color);\n",
              "    border: none;\n",
              "    border-radius: 50%;\n",
              "    cursor: pointer;\n",
              "    display: none;\n",
              "    fill: var(--fill-color);\n",
              "    height: 32px;\n",
              "    padding: 0;\n",
              "    width: 32px;\n",
              "  }\n",
              "\n",
              "  .colab-df-quickchart:hover {\n",
              "    background-color: var(--hover-bg-color);\n",
              "    box-shadow: 0 1px 2px rgba(60, 64, 67, 0.3), 0 1px 3px 1px rgba(60, 64, 67, 0.15);\n",
              "    fill: var(--button-hover-fill-color);\n",
              "  }\n",
              "\n",
              "  .colab-df-quickchart-complete:disabled,\n",
              "  .colab-df-quickchart-complete:disabled:hover {\n",
              "    background-color: var(--disabled-bg-color);\n",
              "    fill: var(--disabled-fill-color);\n",
              "    box-shadow: none;\n",
              "  }\n",
              "\n",
              "  .colab-df-spinner {\n",
              "    border: 2px solid var(--fill-color);\n",
              "    border-color: transparent;\n",
              "    border-bottom-color: var(--fill-color);\n",
              "    animation:\n",
              "      spin 1s steps(1) infinite;\n",
              "  }\n",
              "\n",
              "  @keyframes spin {\n",
              "    0% {\n",
              "      border-color: transparent;\n",
              "      border-bottom-color: var(--fill-color);\n",
              "      border-left-color: var(--fill-color);\n",
              "    }\n",
              "    20% {\n",
              "      border-color: transparent;\n",
              "      border-left-color: var(--fill-color);\n",
              "      border-top-color: var(--fill-color);\n",
              "    }\n",
              "    30% {\n",
              "      border-color: transparent;\n",
              "      border-left-color: var(--fill-color);\n",
              "      border-top-color: var(--fill-color);\n",
              "      border-right-color: var(--fill-color);\n",
              "    }\n",
              "    40% {\n",
              "      border-color: transparent;\n",
              "      border-right-color: var(--fill-color);\n",
              "      border-top-color: var(--fill-color);\n",
              "    }\n",
              "    60% {\n",
              "      border-color: transparent;\n",
              "      border-right-color: var(--fill-color);\n",
              "    }\n",
              "    80% {\n",
              "      border-color: transparent;\n",
              "      border-right-color: var(--fill-color);\n",
              "      border-bottom-color: var(--fill-color);\n",
              "    }\n",
              "    90% {\n",
              "      border-color: transparent;\n",
              "      border-bottom-color: var(--fill-color);\n",
              "    }\n",
              "  }\n",
              "</style>\n",
              "\n",
              "  <script>\n",
              "    async function quickchart(key) {\n",
              "      const quickchartButtonEl =\n",
              "        document.querySelector('#' + key + ' button');\n",
              "      quickchartButtonEl.disabled = true;  // To prevent multiple clicks.\n",
              "      quickchartButtonEl.classList.add('colab-df-spinner');\n",
              "      try {\n",
              "        const charts = await google.colab.kernel.invokeFunction(\n",
              "            'suggestCharts', [key], {});\n",
              "      } catch (error) {\n",
              "        console.error('Error during call to suggestCharts:', error);\n",
              "      }\n",
              "      quickchartButtonEl.classList.remove('colab-df-spinner');\n",
              "      quickchartButtonEl.classList.add('colab-df-quickchart-complete');\n",
              "    }\n",
              "    (() => {\n",
              "      let quickchartButtonEl =\n",
              "        document.querySelector('#df-34f49cd7-ce3b-4e7a-9cb6-9c75491730e0 button');\n",
              "      quickchartButtonEl.style.display =\n",
              "        google.colab.kernel.accessAllowed ? 'block' : 'none';\n",
              "    })();\n",
              "  </script>\n",
              "</div>\n",
              "    </div>\n",
              "  </div>\n"
            ]
          },
          "metadata": {},
          "execution_count": 27
        }
      ]
    },
    {
      "cell_type": "code",
      "source": [
        "path = \"/content/sample_data/britishairways\"\n",
        "df.to_csv(path, index=False)"
      ],
      "metadata": {
        "id": "ZWpTmGapNZrr"
      },
      "execution_count": null,
      "outputs": []
    },
    {
      "cell_type": "markdown",
      "source": [
        "#Data Cleaning / Manipulation & EDA\n"
      ],
      "metadata": {
        "id": "r_NiDdKJN0-z"
      }
    },
    {
      "cell_type": "code",
      "source": [
        "import matplotlib.pyplot as plt\n",
        "import seaborn as sns\n",
        "import os\n",
        "import re"
      ],
      "metadata": {
        "id": "jYQx5YN8OKwh"
      },
      "execution_count": null,
      "outputs": []
    },
    {
      "cell_type": "code",
      "source": [
        "dt = pd.read_csv(\"/content/sample_data/britishairways\")\n",
        "dt"
      ],
      "metadata": {
        "colab": {
          "base_uri": "https://localhost:8080/",
          "height": 423
        },
        "id": "cmr24eZKSH0x",
        "outputId": "8886912d-0b6b-4e6b-ab33-b1853f6da21b"
      },
      "execution_count": null,
      "outputs": [
        {
          "output_type": "execute_result",
          "data": {
            "text/plain": [
              "                                              reviews  stars  \\\n",
              "0   Not Verified |  British Airways has confirmed ...      5   \n",
              "1   ✅ Trip Verified | Worst BA experience. I was s...      1   \n",
              "2   ✅ Trip Verified |  My daughter and I were deni...      2   \n",
              "3   ✅ Trip Verified | Despite boarding being the u...      1   \n",
              "4   Not Verified |  Flight cancelled, no crew! 9th...      8   \n",
              "..                                                ...    ...   \n",
              "95  Not Verified |  The worst service ever, my bag...      1   \n",
              "96  ✅ Trip Verified |  4/4 flights we booked this ...      1   \n",
              "97  ✅ Trip Verified |  British Airways has a total...      8   \n",
              "98  ✅ Trip Verified | London Heathrow to Keflavik,...      8   \n",
              "99  ✅ Trip Verified | Mumbai to London Heathrow in...      5   \n",
              "\n",
              "                   date         country  \n",
              "0   16th September 2023  United Kingdom  \n",
              "1   15th September 2023    South Africa  \n",
              "2   13th September 2023          Canada  \n",
              "3   11th September 2023  United Kingdom  \n",
              "4   10th September 2023  United Kingdom  \n",
              "..                  ...             ...  \n",
              "95   9th September 2023          Kuwait  \n",
              "96   6th September 2023         Germany  \n",
              "97   4th September 2023  United Kingdom  \n",
              "98   4th September 2023         Iceland  \n",
              "99   4th September 2023         Iceland  \n",
              "\n",
              "[100 rows x 4 columns]"
            ],
            "text/html": [
              "\n",
              "  <div id=\"df-bb548d0c-2a75-4232-bd70-f47736dce9e3\" class=\"colab-df-container\">\n",
              "    <div>\n",
              "<style scoped>\n",
              "    .dataframe tbody tr th:only-of-type {\n",
              "        vertical-align: middle;\n",
              "    }\n",
              "\n",
              "    .dataframe tbody tr th {\n",
              "        vertical-align: top;\n",
              "    }\n",
              "\n",
              "    .dataframe thead th {\n",
              "        text-align: right;\n",
              "    }\n",
              "</style>\n",
              "<table border=\"1\" class=\"dataframe\">\n",
              "  <thead>\n",
              "    <tr style=\"text-align: right;\">\n",
              "      <th></th>\n",
              "      <th>reviews</th>\n",
              "      <th>stars</th>\n",
              "      <th>date</th>\n",
              "      <th>country</th>\n",
              "    </tr>\n",
              "  </thead>\n",
              "  <tbody>\n",
              "    <tr>\n",
              "      <th>0</th>\n",
              "      <td>Not Verified |  British Airways has confirmed ...</td>\n",
              "      <td>5</td>\n",
              "      <td>16th September 2023</td>\n",
              "      <td>United Kingdom</td>\n",
              "    </tr>\n",
              "    <tr>\n",
              "      <th>1</th>\n",
              "      <td>✅ Trip Verified | Worst BA experience. I was s...</td>\n",
              "      <td>1</td>\n",
              "      <td>15th September 2023</td>\n",
              "      <td>South Africa</td>\n",
              "    </tr>\n",
              "    <tr>\n",
              "      <th>2</th>\n",
              "      <td>✅ Trip Verified |  My daughter and I were deni...</td>\n",
              "      <td>2</td>\n",
              "      <td>13th September 2023</td>\n",
              "      <td>Canada</td>\n",
              "    </tr>\n",
              "    <tr>\n",
              "      <th>3</th>\n",
              "      <td>✅ Trip Verified | Despite boarding being the u...</td>\n",
              "      <td>1</td>\n",
              "      <td>11th September 2023</td>\n",
              "      <td>United Kingdom</td>\n",
              "    </tr>\n",
              "    <tr>\n",
              "      <th>4</th>\n",
              "      <td>Not Verified |  Flight cancelled, no crew! 9th...</td>\n",
              "      <td>8</td>\n",
              "      <td>10th September 2023</td>\n",
              "      <td>United Kingdom</td>\n",
              "    </tr>\n",
              "    <tr>\n",
              "      <th>...</th>\n",
              "      <td>...</td>\n",
              "      <td>...</td>\n",
              "      <td>...</td>\n",
              "      <td>...</td>\n",
              "    </tr>\n",
              "    <tr>\n",
              "      <th>95</th>\n",
              "      <td>Not Verified |  The worst service ever, my bag...</td>\n",
              "      <td>1</td>\n",
              "      <td>9th September 2023</td>\n",
              "      <td>Kuwait</td>\n",
              "    </tr>\n",
              "    <tr>\n",
              "      <th>96</th>\n",
              "      <td>✅ Trip Verified |  4/4 flights we booked this ...</td>\n",
              "      <td>1</td>\n",
              "      <td>6th September 2023</td>\n",
              "      <td>Germany</td>\n",
              "    </tr>\n",
              "    <tr>\n",
              "      <th>97</th>\n",
              "      <td>✅ Trip Verified |  British Airways has a total...</td>\n",
              "      <td>8</td>\n",
              "      <td>4th September 2023</td>\n",
              "      <td>United Kingdom</td>\n",
              "    </tr>\n",
              "    <tr>\n",
              "      <th>98</th>\n",
              "      <td>✅ Trip Verified | London Heathrow to Keflavik,...</td>\n",
              "      <td>8</td>\n",
              "      <td>4th September 2023</td>\n",
              "      <td>Iceland</td>\n",
              "    </tr>\n",
              "    <tr>\n",
              "      <th>99</th>\n",
              "      <td>✅ Trip Verified | Mumbai to London Heathrow in...</td>\n",
              "      <td>5</td>\n",
              "      <td>4th September 2023</td>\n",
              "      <td>Iceland</td>\n",
              "    </tr>\n",
              "  </tbody>\n",
              "</table>\n",
              "<p>100 rows × 4 columns</p>\n",
              "</div>\n",
              "    <div class=\"colab-df-buttons\">\n",
              "\n",
              "  <div class=\"colab-df-container\">\n",
              "    <button class=\"colab-df-convert\" onclick=\"convertToInteractive('df-bb548d0c-2a75-4232-bd70-f47736dce9e3')\"\n",
              "            title=\"Convert this dataframe to an interactive table.\"\n",
              "            style=\"display:none;\">\n",
              "\n",
              "  <svg xmlns=\"http://www.w3.org/2000/svg\" height=\"24px\" viewBox=\"0 -960 960 960\">\n",
              "    <path d=\"M120-120v-720h720v720H120Zm60-500h600v-160H180v160Zm220 220h160v-160H400v160Zm0 220h160v-160H400v160ZM180-400h160v-160H180v160Zm440 0h160v-160H620v160ZM180-180h160v-160H180v160Zm440 0h160v-160H620v160Z\"/>\n",
              "  </svg>\n",
              "    </button>\n",
              "\n",
              "  <style>\n",
              "    .colab-df-container {\n",
              "      display:flex;\n",
              "      gap: 12px;\n",
              "    }\n",
              "\n",
              "    .colab-df-convert {\n",
              "      background-color: #E8F0FE;\n",
              "      border: none;\n",
              "      border-radius: 50%;\n",
              "      cursor: pointer;\n",
              "      display: none;\n",
              "      fill: #1967D2;\n",
              "      height: 32px;\n",
              "      padding: 0 0 0 0;\n",
              "      width: 32px;\n",
              "    }\n",
              "\n",
              "    .colab-df-convert:hover {\n",
              "      background-color: #E2EBFA;\n",
              "      box-shadow: 0px 1px 2px rgba(60, 64, 67, 0.3), 0px 1px 3px 1px rgba(60, 64, 67, 0.15);\n",
              "      fill: #174EA6;\n",
              "    }\n",
              "\n",
              "    .colab-df-buttons div {\n",
              "      margin-bottom: 4px;\n",
              "    }\n",
              "\n",
              "    [theme=dark] .colab-df-convert {\n",
              "      background-color: #3B4455;\n",
              "      fill: #D2E3FC;\n",
              "    }\n",
              "\n",
              "    [theme=dark] .colab-df-convert:hover {\n",
              "      background-color: #434B5C;\n",
              "      box-shadow: 0px 1px 3px 1px rgba(0, 0, 0, 0.15);\n",
              "      filter: drop-shadow(0px 1px 2px rgba(0, 0, 0, 0.3));\n",
              "      fill: #FFFFFF;\n",
              "    }\n",
              "  </style>\n",
              "\n",
              "    <script>\n",
              "      const buttonEl =\n",
              "        document.querySelector('#df-bb548d0c-2a75-4232-bd70-f47736dce9e3 button.colab-df-convert');\n",
              "      buttonEl.style.display =\n",
              "        google.colab.kernel.accessAllowed ? 'block' : 'none';\n",
              "\n",
              "      async function convertToInteractive(key) {\n",
              "        const element = document.querySelector('#df-bb548d0c-2a75-4232-bd70-f47736dce9e3');\n",
              "        const dataTable =\n",
              "          await google.colab.kernel.invokeFunction('convertToInteractive',\n",
              "                                                    [key], {});\n",
              "        if (!dataTable) return;\n",
              "\n",
              "        const docLinkHtml = 'Like what you see? Visit the ' +\n",
              "          '<a target=\"_blank\" href=https://colab.research.google.com/notebooks/data_table.ipynb>data table notebook</a>'\n",
              "          + ' to learn more about interactive tables.';\n",
              "        element.innerHTML = '';\n",
              "        dataTable['output_type'] = 'display_data';\n",
              "        await google.colab.output.renderOutput(dataTable, element);\n",
              "        const docLink = document.createElement('div');\n",
              "        docLink.innerHTML = docLinkHtml;\n",
              "        element.appendChild(docLink);\n",
              "      }\n",
              "    </script>\n",
              "  </div>\n",
              "\n",
              "\n",
              "<div id=\"df-6b76aad5-e3d3-4030-bec3-d1bf91f34bde\">\n",
              "  <button class=\"colab-df-quickchart\" onclick=\"quickchart('df-6b76aad5-e3d3-4030-bec3-d1bf91f34bde')\"\n",
              "            title=\"Suggest charts.\"\n",
              "            style=\"display:none;\">\n",
              "\n",
              "<svg xmlns=\"http://www.w3.org/2000/svg\" height=\"24px\"viewBox=\"0 0 24 24\"\n",
              "     width=\"24px\">\n",
              "    <g>\n",
              "        <path d=\"M19 3H5c-1.1 0-2 .9-2 2v14c0 1.1.9 2 2 2h14c1.1 0 2-.9 2-2V5c0-1.1-.9-2-2-2zM9 17H7v-7h2v7zm4 0h-2V7h2v10zm4 0h-2v-4h2v4z\"/>\n",
              "    </g>\n",
              "</svg>\n",
              "  </button>\n",
              "\n",
              "<style>\n",
              "  .colab-df-quickchart {\n",
              "      --bg-color: #E8F0FE;\n",
              "      --fill-color: #1967D2;\n",
              "      --hover-bg-color: #E2EBFA;\n",
              "      --hover-fill-color: #174EA6;\n",
              "      --disabled-fill-color: #AAA;\n",
              "      --disabled-bg-color: #DDD;\n",
              "  }\n",
              "\n",
              "  [theme=dark] .colab-df-quickchart {\n",
              "      --bg-color: #3B4455;\n",
              "      --fill-color: #D2E3FC;\n",
              "      --hover-bg-color: #434B5C;\n",
              "      --hover-fill-color: #FFFFFF;\n",
              "      --disabled-bg-color: #3B4455;\n",
              "      --disabled-fill-color: #666;\n",
              "  }\n",
              "\n",
              "  .colab-df-quickchart {\n",
              "    background-color: var(--bg-color);\n",
              "    border: none;\n",
              "    border-radius: 50%;\n",
              "    cursor: pointer;\n",
              "    display: none;\n",
              "    fill: var(--fill-color);\n",
              "    height: 32px;\n",
              "    padding: 0;\n",
              "    width: 32px;\n",
              "  }\n",
              "\n",
              "  .colab-df-quickchart:hover {\n",
              "    background-color: var(--hover-bg-color);\n",
              "    box-shadow: 0 1px 2px rgba(60, 64, 67, 0.3), 0 1px 3px 1px rgba(60, 64, 67, 0.15);\n",
              "    fill: var(--button-hover-fill-color);\n",
              "  }\n",
              "\n",
              "  .colab-df-quickchart-complete:disabled,\n",
              "  .colab-df-quickchart-complete:disabled:hover {\n",
              "    background-color: var(--disabled-bg-color);\n",
              "    fill: var(--disabled-fill-color);\n",
              "    box-shadow: none;\n",
              "  }\n",
              "\n",
              "  .colab-df-spinner {\n",
              "    border: 2px solid var(--fill-color);\n",
              "    border-color: transparent;\n",
              "    border-bottom-color: var(--fill-color);\n",
              "    animation:\n",
              "      spin 1s steps(1) infinite;\n",
              "  }\n",
              "\n",
              "  @keyframes spin {\n",
              "    0% {\n",
              "      border-color: transparent;\n",
              "      border-bottom-color: var(--fill-color);\n",
              "      border-left-color: var(--fill-color);\n",
              "    }\n",
              "    20% {\n",
              "      border-color: transparent;\n",
              "      border-left-color: var(--fill-color);\n",
              "      border-top-color: var(--fill-color);\n",
              "    }\n",
              "    30% {\n",
              "      border-color: transparent;\n",
              "      border-left-color: var(--fill-color);\n",
              "      border-top-color: var(--fill-color);\n",
              "      border-right-color: var(--fill-color);\n",
              "    }\n",
              "    40% {\n",
              "      border-color: transparent;\n",
              "      border-right-color: var(--fill-color);\n",
              "      border-top-color: var(--fill-color);\n",
              "    }\n",
              "    60% {\n",
              "      border-color: transparent;\n",
              "      border-right-color: var(--fill-color);\n",
              "    }\n",
              "    80% {\n",
              "      border-color: transparent;\n",
              "      border-right-color: var(--fill-color);\n",
              "      border-bottom-color: var(--fill-color);\n",
              "    }\n",
              "    90% {\n",
              "      border-color: transparent;\n",
              "      border-bottom-color: var(--fill-color);\n",
              "    }\n",
              "  }\n",
              "</style>\n",
              "\n",
              "  <script>\n",
              "    async function quickchart(key) {\n",
              "      const quickchartButtonEl =\n",
              "        document.querySelector('#' + key + ' button');\n",
              "      quickchartButtonEl.disabled = true;  // To prevent multiple clicks.\n",
              "      quickchartButtonEl.classList.add('colab-df-spinner');\n",
              "      try {\n",
              "        const charts = await google.colab.kernel.invokeFunction(\n",
              "            'suggestCharts', [key], {});\n",
              "      } catch (error) {\n",
              "        console.error('Error during call to suggestCharts:', error);\n",
              "      }\n",
              "      quickchartButtonEl.classList.remove('colab-df-spinner');\n",
              "      quickchartButtonEl.classList.add('colab-df-quickchart-complete');\n",
              "    }\n",
              "    (() => {\n",
              "      let quickchartButtonEl =\n",
              "        document.querySelector('#df-6b76aad5-e3d3-4030-bec3-d1bf91f34bde button');\n",
              "      quickchartButtonEl.style.display =\n",
              "        google.colab.kernel.accessAllowed ? 'block' : 'none';\n",
              "    })();\n",
              "  </script>\n",
              "</div>\n",
              "    </div>\n",
              "  </div>\n"
            ]
          },
          "metadata": {},
          "execution_count": 30
        }
      ]
    },
    {
      "cell_type": "code",
      "source": [
        "dt.info()"
      ],
      "metadata": {
        "colab": {
          "base_uri": "https://localhost:8080/"
        },
        "id": "pBA9iAsgSVaZ",
        "outputId": "f189df17-2348-4386-87c0-03bf839212ba"
      },
      "execution_count": null,
      "outputs": [
        {
          "output_type": "stream",
          "name": "stdout",
          "text": [
            "<class 'pandas.core.frame.DataFrame'>\n",
            "RangeIndex: 100 entries, 0 to 99\n",
            "Data columns (total 4 columns):\n",
            " #   Column   Non-Null Count  Dtype \n",
            "---  ------   --------------  ----- \n",
            " 0   reviews  100 non-null    object\n",
            " 1   stars    100 non-null    int64 \n",
            " 2   date     100 non-null    object\n",
            " 3   country  100 non-null    object\n",
            "dtypes: int64(1), object(3)\n",
            "memory usage: 3.2+ KB\n"
          ]
        }
      ]
    },
    {
      "cell_type": "code",
      "source": [
        "dt['Verified'] = dt.reviews.str.contains(\"Trip Verified\")\n",
        "dt['Verified'].value_counts()"
      ],
      "metadata": {
        "colab": {
          "base_uri": "https://localhost:8080/"
        },
        "id": "GyYNYYqXSWLa",
        "outputId": "7fffba22-a50d-4fa8-898f-389d0190e0bc"
      },
      "execution_count": null,
      "outputs": [
        {
          "output_type": "execute_result",
          "data": {
            "text/plain": [
              "True     70\n",
              "False    30\n",
              "Name: Verified, dtype: int64"
            ]
          },
          "metadata": {},
          "execution_count": 32
        }
      ]
    },
    {
      "cell_type": "markdown",
      "source": [
        "~70% Trips are verified hence the reviews can be considered genuine."
      ],
      "metadata": {
        "id": "xP2hXTIrdK2H"
      }
    },
    {
      "cell_type": "code",
      "source": [
        "dt['stars'] = dt['stars'].replace(8, 4) #Make scale of 1-5\n",
        "dt['stars'].value_counts()"
      ],
      "metadata": {
        "colab": {
          "base_uri": "https://localhost:8080/"
        },
        "id": "3qQF22sbcjC0",
        "outputId": "502a4eac-5a28-4024-a67e-d0b8fa9f9664"
      },
      "execution_count": null,
      "outputs": [
        {
          "output_type": "execute_result",
          "data": {
            "text/plain": [
              "1    54\n",
              "4    27\n",
              "5    10\n",
              "2     9\n",
              "Name: stars, dtype: int64"
            ]
          },
          "metadata": {},
          "execution_count": 33
        }
      ]
    },
    {
      "cell_type": "markdown",
      "source": [
        "##Average ratings of British Airways\n"
      ],
      "metadata": {
        "id": "GQicWirSbj4X"
      }
    },
    {
      "cell_type": "code",
      "source": [
        "dt.stars.mean()"
      ],
      "metadata": {
        "colab": {
          "base_uri": "https://localhost:8080/"
        },
        "id": "h1W8Q3j4Ssn4",
        "outputId": "04f6cae2-5b64-4472-d467-9f0738f197b8"
      },
      "execution_count": null,
      "outputs": [
        {
          "output_type": "execute_result",
          "data": {
            "text/plain": [
              "2.3"
            ]
          },
          "metadata": {},
          "execution_count": 34
        }
      ]
    },
    {
      "cell_type": "markdown",
      "source": [
        "Below Average service"
      ],
      "metadata": {
        "id": "WGVtZSG8c8EE"
      }
    },
    {
      "cell_type": "code",
      "source": [
        "value_counts = dt['stars'].value_counts()\n",
        "ax = value_counts.plot(kind=\"bar\")\n",
        "\n",
        "plt.xlabel(\"Ratings\")\n",
        "plt.ylabel(\"Total Number of reviews with that rating\")\n",
        "plt.title(\"Ratings Review\")\n",
        "for i, v in enumerate(value_counts):\n",
        "    ax.text(i, v, str(v), ha='center', va='bottom')"
      ],
      "metadata": {
        "colab": {
          "base_uri": "https://localhost:8080/",
          "height": 467
        },
        "id": "GGATdXoDbgbs",
        "outputId": "1af5474d-4f45-4ee5-88c1-0d14d56b1cc4"
      },
      "execution_count": null,
      "outputs": [
        {
          "output_type": "display_data",
          "data": {
            "text/plain": [
              "<Figure size 640x480 with 1 Axes>"
            ],
            "image/png": "[encoded data removed]"
          },
          "metadata": {}
        }
      ]
    },
    {
      "cell_type": "code",
      "source": [
        "country = dt['country'].value_counts()\n",
        "country"
      ],
      "metadata": {
        "colab": {
          "base_uri": "https://localhost:8080/"
        },
        "id": "RdeF4OFIbvr_",
        "outputId": "c9c63b49-c28e-4454-f7e2-164b7ae8eb0d"
      },
      "execution_count": null,
      "outputs": [
        {
          "output_type": "execute_result",
          "data": {
            "text/plain": [
              "United Kingdom    40\n",
              "Iceland           20\n",
              "South Africa      10\n",
              "Canada            10\n",
              "Kuwait            10\n",
              "Germany           10\n",
              "Name: country, dtype: int64"
            ]
          },
          "metadata": {},
          "execution_count": 36
        }
      ]
    },
    {
      "cell_type": "code",
      "source": [
        "ax1 = country.plot(kind=\"bar\")\n",
        "country.plot(kind=\"bar\", x='country')\n",
        "plt.title(\"Maximum number of review by country\")\n",
        "\n",
        "for i, v in enumerate(country):\n",
        "    ax1.text(i, v, str(v), ha='center', va='bottom')"
      ],
      "metadata": {
        "colab": {
          "base_uri": "https://localhost:8080/",
          "height": 550
        },
        "id": "0_F_Fl_bdotD",
        "outputId": "ec6ed702-8122-41f8-daf9-c2b1ddcad30c"
      },
      "execution_count": null,
      "outputs": [
        {
          "output_type": "display_data",
          "data": {
            "text/plain": [
              "<Figure size 640x480 with 1 Axes>"
            ],
            "image/png": "[encoded data removed]"
          },
          "metadata": {}
        }
      ]
    },
    {
      "cell_type": "markdown",
      "source": [
        "Countrywise rating"
      ],
      "metadata": {
        "id": "UZxGRxC6km08"
      }
    },
    {
      "cell_type": "code",
      "source": [],
      "metadata": {
        "id": "P1QdDXzghzcf"
      },
      "execution_count": null,
      "outputs": []
    },
    {
      "cell_type": "code",
      "source": [
        "dt['reviews']"
      ],
      "metadata": {
        "colab": {
          "base_uri": "https://localhost:8080/"
        },
        "id": "OjxNKR6SjVEd",
        "outputId": "28c13701-b4b8-4d2a-fce1-d596d4dfd2c6"
      },
      "execution_count": null,
      "outputs": [
        {
          "output_type": "execute_result",
          "data": {
            "text/plain": [
              "0     Not Verified |  British Airways has confirmed ...\n",
              "1     ✅ Trip Verified | Worst BA experience. I was s...\n",
              "2     ✅ Trip Verified |  My daughter and I were deni...\n",
              "3     ✅ Trip Verified | Despite boarding being the u...\n",
              "4     Not Verified |  Flight cancelled, no crew! 9th...\n",
              "                            ...                        \n",
              "95    Not Verified |  The worst service ever, my bag...\n",
              "96    ✅ Trip Verified |  4/4 flights we booked this ...\n",
              "97    ✅ Trip Verified |  British Airways has a total...\n",
              "98    ✅ Trip Verified | London Heathrow to Keflavik,...\n",
              "99    ✅ Trip Verified | Mumbai to London Heathrow in...\n",
              "Name: reviews, Length: 100, dtype: object"
            ]
          },
          "metadata": {},
          "execution_count": 38
        }
      ]
    },
    {
      "cell_type": "code",
      "source": [
        "dt['description'] = dt['reviews'].str.replace('✅', '').str.replace('Trip Verified', '').str.replace('|', '').str.replace('Not Verified', '')\n",
        "dt['description'] = pd.DataFrame(dt['description'])\n",
        "dt['description']"
      ],
      "metadata": {
        "colab": {
          "base_uri": "https://localhost:8080/"
        },
        "id": "hKnPMoHPqRRP",
        "outputId": "c93e88f0-0540-4edc-efb5-99a8648177ba"
      },
      "execution_count": null,
      "outputs": [
        {
          "output_type": "stream",
          "name": "stderr",
          "text": [
            "<ipython-input-39-9c0a73fd86c4>:1: FutureWarning: The default value of regex will change from True to False in a future version. In addition, single character regular expressions will *not* be treated as literal strings when regex=True.\n",
            "  dt['description'] = dt['reviews'].str.replace('✅', '').str.replace('Trip Verified', '').str.replace('|', '').str.replace('Not Verified', '')\n"
          ]
        },
        {
          "output_type": "execute_result",
          "data": {
            "text/plain": [
              "0        British Airways has confirmed itself as the...\n",
              "1        Worst BA experience. I was supposed to fly ...\n",
              "2         My daughter and I were denied boarding on ...\n",
              "3        Despite boarding being the usual free for a...\n",
              "4        Flight cancelled, no crew! 9th September 20...\n",
              "                            ...                        \n",
              "95       The worst service ever, my baggage did not ...\n",
              "96        4/4 flights we booked this holiday were de...\n",
              "97        British Airways has a total lack of respec...\n",
              "98       London Heathrow to Keflavik, Iceland in Bus...\n",
              "99       Mumbai to London Heathrow in Business Class...\n",
              "Name: description, Length: 100, dtype: object"
            ]
          },
          "metadata": {},
          "execution_count": 39
        }
      ]
    },
    {
      "cell_type": "code",
      "source": [
        "from wordcloud import WordCloud\n",
        "\n",
        "text_data = \" \".join(dt['description'])\n",
        "\n",
        "wordcloud = WordCloud(width=400, height=800, background_color=\"black\").generate(text_data)\n",
        "\n",
        "plt.figure(figsize=(10, 5))\n",
        "plt.imshow(wordcloud, interpolation=\"bilinear\")\n",
        "plt.axis(\"off\")\n",
        "plt.show()"
      ],
      "metadata": {
        "colab": {
          "base_uri": "https://localhost:8080/",
          "height": 422
        },
        "id": "X9PT1AWhqwrA",
        "outputId": "82a133ee-027c-4674-8472-81ee5e96b29c"
      },
      "execution_count": null,
      "outputs": [
        {
          "output_type": "display_data",
          "data": {
            "text/plain": [
              "<Figure size 1000x500 with 1 Axes>"
            ],
            "image/png": "[encoded data removed]"
          },
          "metadata": {}
        }
      ]
    },
    {
      "cell_type": "markdown",
      "source": [
        "Buzzwords in our dataset are higlighted in above wordcloud, but it doesnot infer much as it does not sound positive or negative."
      ],
      "metadata": {
        "id": "JVSz1otGrp1p"
      }
    },
    {
      "cell_type": "code",
      "source": [
        "import nltk\n",
        "from nltk.tokenize import word_tokenize\n",
        "\n",
        "nltk.download('punkt')  # Download the NLTK tokenizer data if not already downloaded\n",
        "\n",
        "# Tokenize the text data into words\n",
        "words = word_tokenize(text_data)\n"
      ],
      "metadata": {
        "colab": {
          "base_uri": "https://localhost:8080/"
        },
        "id": "ZRRC_0CWrbQs",
        "outputId": "f3beebac-6a50-4ae2-ee88-523312a1f3e0"
      },
      "execution_count": null,
      "outputs": [
        {
          "output_type": "stream",
          "name": "stderr",
          "text": [
            "[nltk_data] Downloading package punkt to /root/nltk_data...\n",
            "[nltk_data]   Unzipping tokenizers/punkt.zip.\n"
          ]
        }
      ]
    },
    {
      "cell_type": "code",
      "source": [
        "from collections import Counter\n",
        "\n",
        "# Create a Counter object to count word frequencies\n",
        "word_counter = Counter(words)\n",
        "\n",
        "# Get the most common words and their counts (e.g., top 25)\n",
        "most_common_words = word_counter.most_common(50)\n",
        "\n",
        "# Print the most common words and their counts\n",
        "for word, count in most_common_words:\n",
        "    print(f\"{word}: {count}\")"
      ],
      "metadata": {
        "colab": {
          "base_uri": "https://localhost:8080/"
        },
        "id": "0I1AVqeRuFb5",
        "outputId": "627471d0-4d08-48ba-f344-a2798878fe28"
      },
      "execution_count": null,
      "outputs": [
        {
          "output_type": "stream",
          "name": "stdout",
          "text": [
            ".: 860\n",
            "the: 630\n",
            ",: 560\n",
            "to: 560\n",
            "and: 400\n",
            "I: 340\n",
            "was: 320\n",
            "on: 300\n",
            "flight: 200\n",
            "of: 190\n",
            "my: 180\n",
            "a: 180\n",
            "that: 170\n",
            "BA: 160\n",
            "had: 160\n",
            "in: 150\n",
            "at: 150\n",
            "is: 150\n",
            "British: 130\n",
            "Airways: 130\n",
            "no: 130\n",
            "with: 120\n",
            "flights: 120\n",
            "for: 120\n",
            "we: 110\n",
            "an: 110\n",
            "from: 110\n",
            "The: 110\n",
            "were: 110\n",
            "but: 90\n",
            "London: 90\n",
            "it: 90\n",
            "not: 90\n",
            "this: 80\n",
            "me: 80\n",
            "us: 80\n",
            "’: 70\n",
            "have: 70\n",
            "our: 70\n",
            "call: 70\n",
            "by: 70\n",
            "hours: 70\n",
            "Business: 70\n",
            "Class: 70\n",
            "be: 60\n",
            "airport: 60\n",
            "there: 60\n",
            "did: 60\n",
            "phone: 60\n",
            "service: 60\n"
          ]
        }
      ]
    },
    {
      "cell_type": "code",
      "source": [
        "last_25_words = words[-25:]\n",
        "\n",
        "# Print the last 25 words\n",
        "print(\"Last 25 words:\")\n",
        "for word in last_25_words:\n",
        "    print(word)\n",
        "#In this code, we use slicing with [-25:] to get the last 25 words from the words list and then print them one by one."
      ],
      "metadata": {
        "colab": {
          "base_uri": "https://localhost:8080/"
        },
        "id": "RUoSSMhBuINa",
        "outputId": "25f1a066-df60-40f9-d4d3-652179241817"
      },
      "execution_count": null,
      "outputs": [
        {
          "output_type": "stream",
          "name": "stdout",
          "text": [
            "Last 25 words:\n",
            "is\n",
            "far\n",
            "more\n",
            "pleasant\n",
            "at\n",
            "this\n",
            "time\n",
            ".\n",
            "In\n",
            "summary\n",
            ":\n",
            "British\n",
            "Airways\n",
            "provides\n",
            "a\n",
            "good\n",
            ",\n",
            "but\n",
            "not\n",
            "spectacular\n",
            ",\n",
            "Business\n",
            "Class\n",
            "product\n",
            ".\n"
          ]
        }
      ]
    }
  ]
}